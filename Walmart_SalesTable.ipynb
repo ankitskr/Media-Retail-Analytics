{
 "cells": [
  {
   "cell_type": "code",
   "execution_count": 1,
   "id": "dfe65520-8cd9-4966-8025-7df673b58df9",
   "metadata": {},
   "outputs": [
    {
     "data": {
      "text/plain": [
       "'Connected: @WalmartSalesData.db'"
      ]
     },
     "execution_count": 1,
     "metadata": {},
     "output_type": "execute_result"
    }
   ],
   "source": [
    "#Load the SQL Extension\n",
    "%load_ext sql\n",
    "\n",
    "#Connecting to SQLite database (use sqlalchemy-1.4.49)\n",
    "%sql sqlite:///WalmartSalesData.db"
   ]
  },
  {
   "cell_type": "markdown",
   "id": "19b1a7cf-b6e9-4ad0-a4d4-c279879ef403",
   "metadata": {},
   "source": [
    "#### Creating Table in Database"
   ]
  },
  {
   "cell_type": "code",
   "execution_count": 2,
   "id": "c0858f3a-2767-4fb8-8334-680ac2639e36",
   "metadata": {},
   "outputs": [
    {
     "name": "stdout",
     "output_type": "stream",
     "text": [
      " * sqlite:///WalmartSalesData.db\n",
      "Done.\n"
     ]
    },
    {
     "data": {
      "text/plain": [
       "[]"
      ]
     },
     "execution_count": 2,
     "metadata": {},
     "output_type": "execute_result"
    }
   ],
   "source": [
    "%%sql\n",
    "CREATE TABLE IF NOT EXISTS sales(\n",
    "    invoice_id       TEXT      NOT NULL    PRIMARY KEY,\n",
    "    branch           TEXT      NOT NULL,\n",
    "    city             TEXT      NOT NULL,\n",
    "    customer_type    TEXT      NOT NULL,\n",
    "    gender           TEXT      NOT NULL,\n",
    "    product_line     TEXT      NOT NULL,\n",
    "    unit_price       REAL      NOT NULL,\n",
    "    quantity         INTEGER   NOT NULL,\n",
    "    tax_pct          REAL      NOT NULL,\n",
    "    total            REAL      NOT NULL,\n",
    "    date             TEXT      NOT NULL,\n",
    "    time             TEXT      NOT NULL,\n",
    "    payment          TEXT      NOT NULL,\n",
    "    rating           REAL      NOT NULL\n",
    ") STRICT;"
   ]
  },
  {
   "cell_type": "markdown",
   "id": "fc6e613d-187e-48e8-8106-d438153d7f09",
   "metadata": {},
   "source": [
    "#### Loading CSV file into database table using command line"
   ]
  },
  {
   "cell_type": "code",
   "execution_count": 3,
   "id": "16664cf4-8a1d-4c96-a050-de51ed1201d4",
   "metadata": {},
   "outputs": [
    {
     "name": "stdout",
     "output_type": "stream",
     "text": [
      "Microsoft Windows [Version 10.0.19045.4291]\n",
      "(c) Microsoft Corporation. All rights reserved.\n",
      "\n",
      "(base) G:\\My Drive\\Personal\\Coursera\\Projects\\SQL>echo off\n",
      "sqlite3 \"WalmartSalesData.db\" \".mode csv\" \".import WalmartSalesData.csv sales\"\n"
     ]
    },
    {
     "name": "stderr",
     "output_type": "stream",
     "text": [
      "WalmartSalesData.csv:1: INSERT failed: cannot store TEXT value in REAL column sales.unit_price\n",
      "WalmartSalesData.csv:4: INSERT failed: cannot store TEXT value in REAL column sales.unit_price\n",
      "WalmartSalesData.csv:75: INSERT failed: cannot store TEXT value in REAL column sales.rating\n",
      "WalmartSalesData.csv:761: INSERT failed: cannot store TEXT value in REAL column sales.tax_pct\n"
     ]
    },
    {
     "name": "stdout",
     "output_type": "stream",
     "text": [
      "echo Success!!\n",
      "Success!!\n"
     ]
    }
   ],
   "source": [
    "%%script cmd\n",
    "echo off\n",
    "sqlite3 \"WalmartSalesData.db\" \".mode csv\" \".import WalmartSalesData.csv sales\"\n",
    "echo Success!!"
   ]
  },
  {
   "cell_type": "code",
   "execution_count": 4,
   "id": "227781d9-4f9d-4930-a8f3-56ea7625266a",
   "metadata": {
    "scrolled": true
   },
   "outputs": [
    {
     "name": "stdout",
     "output_type": "stream",
     "text": [
      " * sqlite:///WalmartSalesData.db\n",
      "Done.\n"
     ]
    },
    {
     "data": {
      "text/html": [
       "<table>\n",
       "    <thead>\n",
       "        <tr>\n",
       "            <th>invoice_id</th>\n",
       "            <th>branch</th>\n",
       "            <th>city</th>\n",
       "            <th>customer_type</th>\n",
       "            <th>gender</th>\n",
       "            <th>product_line</th>\n",
       "            <th>unit_price</th>\n",
       "            <th>quantity</th>\n",
       "            <th>tax_pct</th>\n",
       "            <th>total</th>\n",
       "            <th>date</th>\n",
       "            <th>time</th>\n",
       "            <th>payment</th>\n",
       "            <th>rating</th>\n",
       "        </tr>\n",
       "    </thead>\n",
       "    <tbody>\n",
       "        <tr>\n",
       "            <td>750-67-8428</td>\n",
       "            <td>A</td>\n",
       "            <td>Yangon</td>\n",
       "            <td>Member</td>\n",
       "            <td>Female</td>\n",
       "            <td>&nbsp;&nbsp;</td>\n",
       "            <td>74.69</td>\n",
       "            <td>7</td>\n",
       "            <td>26.1415</td>\n",
       "            <td>548.9715</td>\n",
       "            <td>2019-01-05</td>\n",
       "            <td>13:08:00</td>\n",
       "            <td>Ewallet</td>\n",
       "            <td>9.1</td>\n",
       "        </tr>\n",
       "        <tr>\n",
       "            <td>631-41-3108</td>\n",
       "            <td>A</td>\n",
       "            <td>Yangon</td>\n",
       "            <td>Normal</td>\n",
       "            <td>Male</td>\n",
       "            <td>Home and lifestyle</td>\n",
       "            <td>46.33</td>\n",
       "            <td>7</td>\n",
       "            <td>16.2155</td>\n",
       "            <td>340.5255</td>\n",
       "            <td>2019-03-03</td>\n",
       "            <td>13:23:00</td>\n",
       "            <td>Credit card</td>\n",
       "            <td>7.4</td>\n",
       "        </tr>\n",
       "        <tr>\n",
       "            <td>373-73-7910</td>\n",
       "            <td>A</td>\n",
       "            <td>Yangon</td>\n",
       "            <td>Normal</td>\n",
       "            <td>Male</td>\n",
       "            <td>Sports and travel</td>\n",
       "            <td>86.31</td>\n",
       "            <td>7</td>\n",
       "            <td>30.2085</td>\n",
       "            <td>634.3785</td>\n",
       "            <td>2019-02-08</td>\n",
       "            <td>10:37:00</td>\n",
       "            <td>Ewallet</td>\n",
       "            <td>5.3</td>\n",
       "        </tr>\n",
       "        <tr>\n",
       "            <td>699-14-3026</td>\n",
       "            <td>C</td>\n",
       "            <td>Naypyitaw</td>\n",
       "            <td>Normal</td>\n",
       "            <td>Male</td>\n",
       "            <td>Electronic accessories</td>\n",
       "            <td>85.39</td>\n",
       "            <td>7</td>\n",
       "            <td>29.8865</td>\n",
       "            <td>627.6165</td>\n",
       "            <td>2019-03-25</td>\n",
       "            <td>18:30:00</td>\n",
       "            <td>Ewallet</td>\n",
       "            <td>4.1</td>\n",
       "        </tr>\n",
       "        <tr>\n",
       "            <td>355-53-5943</td>\n",
       "            <td>A</td>\n",
       "            <td>Yangon</td>\n",
       "            <td>Member</td>\n",
       "            <td>Female</td>\n",
       "            <td>Electronic accessories</td>\n",
       "            <td>68.84</td>\n",
       "            <td>6</td>\n",
       "            <td>20.652</td>\n",
       "            <td>433.692</td>\n",
       "            <td>2019-02-25</td>\n",
       "            <td>14:36:00</td>\n",
       "            <td>Ewallet</td>\n",
       "            <td>5.8</td>\n",
       "        </tr>\n",
       "    </tbody>\n",
       "</table>"
      ],
      "text/plain": [
       "[('750-67-8428', 'A', 'Yangon', 'Member', 'Female', '  ', 74.69, 7, 26.1415, 548.9715, '2019-01-05', '13:08:00', 'Ewallet', 9.1),\n",
       " ('631-41-3108', 'A', 'Yangon', 'Normal', 'Male', 'Home and lifestyle', 46.33, 7, 16.2155, 340.5255, '2019-03-03', '13:23:00', 'Credit card', 7.4),\n",
       " ('373-73-7910', 'A', 'Yangon', 'Normal', 'Male', 'Sports and travel', 86.31, 7, 30.2085, 634.3785, '2019-02-08', '10:37:00', 'Ewallet', 5.3),\n",
       " ('699-14-3026', 'C', 'Naypyitaw', 'Normal', 'Male', 'Electronic accessories', 85.39, 7, 29.8865, 627.6165, '2019-03-25', '18:30:00', 'Ewallet', 4.1),\n",
       " ('355-53-5943', 'A', 'Yangon', 'Member', 'Female', 'Electronic accessories', 68.84, 6, 20.652, 433.692, '2019-02-25', '14:36:00', 'Ewallet', 5.8)]"
      ]
     },
     "execution_count": 4,
     "metadata": {},
     "output_type": "execute_result"
    }
   ],
   "source": [
    "%%sql \n",
    "SELECT * FROM sales\n",
    "LIMIT 5;"
   ]
  },
  {
   "cell_type": "code",
   "execution_count": null,
   "id": "89841d46-44e0-4cac-b3bf-73bd3f0845df",
   "metadata": {},
   "outputs": [],
   "source": []
  },
  {
   "cell_type": "code",
   "execution_count": null,
   "id": "f312f683-83e8-4077-a4c7-486b233d9ed3",
   "metadata": {},
   "outputs": [],
   "source": []
  }
 ],
 "metadata": {
  "kernelspec": {
   "display_name": "Python 3 (ipykernel)",
   "language": "python",
   "name": "python3"
  },
  "language_info": {
   "codemirror_mode": {
    "name": "ipython",
    "version": 3
   },
   "file_extension": ".py",
   "mimetype": "text/x-python",
   "name": "python",
   "nbconvert_exporter": "python",
   "pygments_lexer": "ipython3",
   "version": "3.11.7"
  }
 },
 "nbformat": 4,
 "nbformat_minor": 5
}
