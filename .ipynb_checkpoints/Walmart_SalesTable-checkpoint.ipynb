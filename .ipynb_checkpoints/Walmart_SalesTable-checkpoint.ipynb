{
 "cells": [
  {
   "cell_type": "code",
   "execution_count": 1,
   "id": "dfe65520-8cd9-4966-8025-7df673b58df9",
   "metadata": {},
   "outputs": [
    {
     "data": {
      "text/plain": [
       "'Connected: @WalmartSalesData.db'"
      ]
     },
     "execution_count": 1,
     "metadata": {},
     "output_type": "execute_result"
    }
   ],
   "source": [
    "#Load the SQL Extension\n",
    "%load_ext sql\n",
    "\n",
    "#Connecting to SQLite database (use sqlalchemy-1.4.49)\n",
    "%sql sqlite:///WalmartSalesData.db"
   ]
  },
  {
   "cell_type": "markdown",
   "id": "19b1a7cf-b6e9-4ad0-a4d4-c279879ef403",
   "metadata": {},
   "source": [
    "#### Creating Table in Database"
   ]
  },
  {
   "cell_type": "code",
   "execution_count": 2,
   "id": "c0858f3a-2767-4fb8-8334-680ac2639e36",
   "metadata": {},
   "outputs": [
    {
     "name": "stdout",
     "output_type": "stream",
     "text": [
      " * sqlite:///WalmartSalesData.db\n",
      "Done.\n"
     ]
    },
    {
     "data": {
      "text/plain": [
       "[]"
      ]
     },
     "execution_count": 2,
     "metadata": {},
     "output_type": "execute_result"
    }
   ],
   "source": [
    "%%sql\n",
    "CREATE TABLE IF NOT EXISTS sales(\n",
    "    invoice_id       VARCHAR(10)     NOT NULL    PRIMARY KEY,  -- character limits are not enforced in SQLite\n",
    "    branch           VARCHAR(5)      NOT NULL,\n",
    "    city             VARCHAR(10)     NOT NULL,\n",
    "    customer_type    VARCHAR(10)     NOT NULL,\n",
    "    gender           VARCHAR(10)     NOT NULL,\n",
    "    product_line     VARCHAR(20)     NOT NULL,\n",
    "    unit_price       DECIMAL(3,1)    NOT NULL,\n",
    "    quantity         INT             NOT NULL,\n",
    "    tax_pct          DECIMAL(10,2)   NOT NULL,\n",
    "    total            DECIMAL(10,2)   NOT NULL,\n",
    "    date             DATETIME        NOT NULL,\n",
    "    time             TIME            NOT NULL,\n",
    "    payment          VARCHAR(10)     NOT NULL,\n",
    "    cogs             DECIMAL(10,2)   NOT NULL,\n",
    "    gross_margin_pct DECIMAL(10,2)   NOT NULL,\n",
    "    gross_income     DECIMAL(10, 2)  NOT NULL,\n",
    "    rating           DECIMAL(2, 1)   NOT NULL\n",
    ");"
   ]
  },
  {
   "cell_type": "markdown",
   "id": "fc6e613d-187e-48e8-8106-d438153d7f09",
   "metadata": {},
   "source": [
    "#### Loading CSV file into database table using command line"
   ]
  },
  {
   "cell_type": "code",
   "execution_count": 3,
   "id": "16664cf4-8a1d-4c96-a050-de51ed1201d4",
   "metadata": {},
   "outputs": [
    {
     "name": "stdout",
     "output_type": "stream",
     "text": [
      "Microsoft Windows [Version 10.0.19045.4291]\n",
      "(c) Microsoft Corporation. All rights reserved.\n",
      "\n",
      "(base) G:\\My Drive\\Personal\\Coursera\\Projects\\SQL>echo off\n",
      "sqlite3 \"WalmartSalesData.db\" \".mode csv\" \".import WalmartSalesData.csv sales\"\n",
      "echo Success!!\n",
      "Success!!\n"
     ]
    }
   ],
   "source": [
    "%%script cmd\n",
    "echo off\n",
    "sqlite3 \"WalmartSalesData.db\" \".mode csv\" \".import WalmartSalesData.csv sales\"\n",
    "echo Success!!"
   ]
  },
  {
   "cell_type": "code",
   "execution_count": 5,
   "id": "227781d9-4f9d-4930-a8f3-56ea7625266a",
   "metadata": {
    "scrolled": true
   },
   "outputs": [
    {
     "name": "stdout",
     "output_type": "stream",
     "text": [
      " * sqlite:///WalmartSalesData.db\n",
      "Done.\n"
     ]
    },
    {
     "data": {
      "text/html": [
       "<table>\n",
       "    <thead>\n",
       "        <tr>\n",
       "            <th>invoice_id</th>\n",
       "            <th>branch</th>\n",
       "            <th>city</th>\n",
       "            <th>customer_type</th>\n",
       "            <th>gender</th>\n",
       "            <th>product_line</th>\n",
       "            <th>unit_price</th>\n",
       "            <th>quantity</th>\n",
       "            <th>tax_pct</th>\n",
       "            <th>total</th>\n",
       "            <th>date</th>\n",
       "            <th>time</th>\n",
       "            <th>payment</th>\n",
       "            <th>cogs</th>\n",
       "            <th>gross_margin_pct</th>\n",
       "            <th>gross_income</th>\n",
       "            <th>rating</th>\n",
       "        </tr>\n",
       "    </thead>\n",
       "    <tbody>\n",
       "        <tr>\n",
       "            <td>Invoice ID</td>\n",
       "            <td>Branch</td>\n",
       "            <td>City</td>\n",
       "            <td>Customer type</td>\n",
       "            <td>Gender</td>\n",
       "            <td>Product line</td>\n",
       "            <td>Unit price</td>\n",
       "            <td>Quantity</td>\n",
       "            <td>Tax 5%</td>\n",
       "            <td>Total</td>\n",
       "            <td>Date</td>\n",
       "            <td>Time</td>\n",
       "            <td>Payment</td>\n",
       "            <td>cogs</td>\n",
       "            <td>gross margin percentage</td>\n",
       "            <td>gross income</td>\n",
       "            <td>Rating</td>\n",
       "        </tr>\n",
       "        <tr>\n",
       "            <td>750-67-8428</td>\n",
       "            <td>A</td>\n",
       "            <td>Yangon</td>\n",
       "            <td>Member</td>\n",
       "            <td>Female</td>\n",
       "            <td></td>\n",
       "            <td>74.69</td>\n",
       "            <td>7</td>\n",
       "            <td>26.1415</td>\n",
       "            <td>548.9715</td>\n",
       "            <td>05-01-2019</td>\n",
       "            <td>13:08:00</td>\n",
       "            <td>Ewallet</td>\n",
       "            <td>522.83</td>\n",
       "            <td>4.761904762</td>\n",
       "            <td>26.1415</td>\n",
       "            <td>9.1</td>\n",
       "        </tr>\n",
       "        <tr>\n",
       "            <td></td>\n",
       "            <td>C</td>\n",
       "            <td>Naypyitaw</td>\n",
       "            <td>Normal</td>\n",
       "            <td>Female</td>\n",
       "            <td>Electronic accessories</td>\n",
       "            <td>15.28</td>\n",
       "            <td>5</td>\n",
       "            <td></td>\n",
       "            <td>80.22</td>\n",
       "            <td>08-03-2019</td>\n",
       "            <td></td>\n",
       "            <td>Cash</td>\n",
       "            <td>76.4</td>\n",
       "            <td>4.761904762</td>\n",
       "            <td></td>\n",
       "            <td>9.6</td>\n",
       "        </tr>\n",
       "        <tr>\n",
       "            <td>631-41-3108</td>\n",
       "            <td>A</td>\n",
       "            <td>Yangon</td>\n",
       "            <td>Normal</td>\n",
       "            <td>Male</td>\n",
       "            <td>Home and lifestyle</td>\n",
       "            <td>46.33</td>\n",
       "            <td>7</td>\n",
       "            <td>16.2155</td>\n",
       "            <td>340.5255</td>\n",
       "            <td>03-03-2019</td>\n",
       "            <td>13:23:00</td>\n",
       "            <td></td>\n",
       "            <td>324.31</td>\n",
       "            <td></td>\n",
       "            <td>16.2155</td>\n",
       "            <td>7.4</td>\n",
       "        </tr>\n",
       "        <tr>\n",
       "            <td>123-19-1176</td>\n",
       "            <td></td>\n",
       "            <td>Yangon</td>\n",
       "            <td>Member</td>\n",
       "            <td>Male</td>\n",
       "            <td>Health and beauty</td>\n",
       "            <td></td>\n",
       "            <td>8</td>\n",
       "            <td>23.288</td>\n",
       "            <td>489.048</td>\n",
       "            <td>27-01-2019</td>\n",
       "            <td>20:33:00</td>\n",
       "            <td>Ewallet</td>\n",
       "            <td>465.76</td>\n",
       "            <td>4.761904762</td>\n",
       "            <td>23.288</td>\n",
       "            <td>8.4</td>\n",
       "        </tr>\n",
       "    </tbody>\n",
       "</table>"
      ],
      "text/plain": [
       "[('Invoice ID', 'Branch', 'City', 'Customer type', 'Gender', 'Product line', 'Unit price', 'Quantity', 'Tax 5%', 'Total', 'Date', 'Time', 'Payment', 'cogs', 'gross margin percentage', 'gross income', 'Rating'),\n",
       " ('750-67-8428', 'A', 'Yangon', 'Member', 'Female', '', 74.69, 7, 26.1415, 548.9715, '05-01-2019', '13:08:00', 'Ewallet', 522.83, 4.761904762, 26.1415, 9.1),\n",
       " ('', 'C', 'Naypyitaw', 'Normal', 'Female', 'Electronic accessories', 15.28, 5, '', 80.22, '08-03-2019', '', 'Cash', 76.4, 4.761904762, '', 9.6),\n",
       " ('631-41-3108', 'A', 'Yangon', 'Normal', 'Male', 'Home and lifestyle', 46.33, 7, 16.2155, 340.5255, '03-03-2019', '13:23:00', '', 324.31, '', 16.2155, 7.4),\n",
       " ('123-19-1176', '', 'Yangon', 'Member', 'Male', 'Health and beauty', '', 8, 23.288, 489.048, '27-01-2019', '20:33:00', 'Ewallet', 465.76, 4.761904762, 23.288, 8.4)]"
      ]
     },
     "execution_count": 5,
     "metadata": {},
     "output_type": "execute_result"
    }
   ],
   "source": [
    "%%sql \n",
    "SELECT * FROM sales\n",
    "LIMIT 5;"
   ]
  },
  {
   "cell_type": "code",
   "execution_count": null,
   "id": "89841d46-44e0-4cac-b3bf-73bd3f0845df",
   "metadata": {},
   "outputs": [],
   "source": []
  },
  {
   "cell_type": "code",
   "execution_count": null,
   "id": "f312f683-83e8-4077-a4c7-486b233d9ed3",
   "metadata": {},
   "outputs": [],
   "source": []
  }
 ],
 "metadata": {
  "kernelspec": {
   "display_name": "Python 3 (ipykernel)",
   "language": "python",
   "name": "python3"
  },
  "language_info": {
   "codemirror_mode": {
    "name": "ipython",
    "version": 3
   },
   "file_extension": ".py",
   "mimetype": "text/x-python",
   "name": "python",
   "nbconvert_exporter": "python",
   "pygments_lexer": "ipython3",
   "version": "3.11.7"
  }
 },
 "nbformat": 4,
 "nbformat_minor": 5
}
