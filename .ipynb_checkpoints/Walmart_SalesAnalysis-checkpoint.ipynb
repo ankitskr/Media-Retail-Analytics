{
 "cells": [
  {
   "cell_type": "code",
   "execution_count": 1,
   "id": "5e747086-fede-4fd7-bd71-791eb4bbf8b4",
   "metadata": {},
   "outputs": [
    {
     "name": "stdout",
     "output_type": "stream",
     "text": [
      " * sqlite:///WalmartSalesData_copy.db\n",
      "Done.\n"
     ]
    },
    {
     "data": {
      "text/html": [
       "<table>\n",
       "    <thead>\n",
       "        <tr>\n",
       "            <th>invoice_id</th>\n",
       "            <th>branch</th>\n",
       "            <th>city</th>\n",
       "            <th>customer_type</th>\n",
       "            <th>gender</th>\n",
       "            <th>product_line</th>\n",
       "            <th>unit_price</th>\n",
       "            <th>quantity</th>\n",
       "            <th>tax_pct</th>\n",
       "            <th>total</th>\n",
       "            <th>date</th>\n",
       "            <th>time</th>\n",
       "            <th>payment</th>\n",
       "            <th>cogs</th>\n",
       "            <th>gross_margin_pct</th>\n",
       "            <th>gross_income</th>\n",
       "            <th>rating</th>\n",
       "        </tr>\n",
       "    </thead>\n",
       "    <tbody>\n",
       "        <tr>\n",
       "            <td>750-67-8428</td>\n",
       "            <td>A</td>\n",
       "            <td>Yangon</td>\n",
       "            <td>Member</td>\n",
       "            <td>Female</td>\n",
       "            <td>&nbsp;&nbsp;</td>\n",
       "            <td>74.69</td>\n",
       "            <td>7</td>\n",
       "            <td>26.1415</td>\n",
       "            <td>548.9715</td>\n",
       "            <td>2019-01-05</td>\n",
       "            <td>13:08:00</td>\n",
       "            <td>Ewallet</td>\n",
       "            <td>522.83</td>\n",
       "            <td>4.761904762</td>\n",
       "            <td>26.1415</td>\n",
       "            <td>9.1</td>\n",
       "        </tr>\n",
       "        <tr>\n",
       "            <td>373-73-7910</td>\n",
       "            <td>A</td>\n",
       "            <td>Yangon</td>\n",
       "            <td>Normal</td>\n",
       "            <td>Male</td>\n",
       "            <td>Sports and travel</td>\n",
       "            <td>86.31</td>\n",
       "            <td>7</td>\n",
       "            <td>30.2085</td>\n",
       "            <td>634.3785</td>\n",
       "            <td>2019-02-08</td>\n",
       "            <td>10:37:00</td>\n",
       "            <td>Ewallet</td>\n",
       "            <td>604.17</td>\n",
       "            <td>4.761904762</td>\n",
       "            <td>30.2085</td>\n",
       "            <td>5.3</td>\n",
       "        </tr>\n",
       "        <tr>\n",
       "            <td>699-14-3026</td>\n",
       "            <td>C</td>\n",
       "            <td>Naypyitaw</td>\n",
       "            <td>Normal</td>\n",
       "            <td>Male</td>\n",
       "            <td>Electronic accessories</td>\n",
       "            <td>85.39</td>\n",
       "            <td>7</td>\n",
       "            <td>29.8865</td>\n",
       "            <td>627.6165</td>\n",
       "            <td>2019-03-25</td>\n",
       "            <td>18:30:00</td>\n",
       "            <td>Ewallet</td>\n",
       "            <td>597.73</td>\n",
       "            <td>4.761904762</td>\n",
       "            <td>29.8865</td>\n",
       "            <td>4.1</td>\n",
       "        </tr>\n",
       "        <tr>\n",
       "            <td>355-53-5943</td>\n",
       "            <td>A</td>\n",
       "            <td>Yangon</td>\n",
       "            <td>Member</td>\n",
       "            <td>Female</td>\n",
       "            <td>Electronic accessories</td>\n",
       "            <td>68.84</td>\n",
       "            <td>6</td>\n",
       "            <td>20.652</td>\n",
       "            <td>433.692</td>\n",
       "            <td>2019-02-25</td>\n",
       "            <td>14:36:00</td>\n",
       "            <td>Ewallet</td>\n",
       "            <td>413.04</td>\n",
       "            <td>4.761904762</td>\n",
       "            <td>20.652</td>\n",
       "            <td>5.8</td>\n",
       "        </tr>\n",
       "        <tr>\n",
       "            <td>315-22-5665</td>\n",
       "            <td>C</td>\n",
       "            <td>Naypyitaw</td>\n",
       "            <td>Normal</td>\n",
       "            <td>Female</td>\n",
       "            <td>Home and lifestyle</td>\n",
       "            <td>73.56</td>\n",
       "            <td>10</td>\n",
       "            <td>36.78</td>\n",
       "            <td>772.38</td>\n",
       "            <td>2019-02-24</td>\n",
       "            <td>11:38:00</td>\n",
       "            <td>Ewallet</td>\n",
       "            <td>735.6</td>\n",
       "            <td>4.761904762</td>\n",
       "            <td>36.78</td>\n",
       "            <td>8.0</td>\n",
       "        </tr>\n",
       "    </tbody>\n",
       "</table>"
      ],
      "text/plain": [
       "[('750-67-8428', 'A', 'Yangon', 'Member', 'Female', '  ', 74.69, 7, 26.1415, 548.9715, '2019-01-05', '13:08:00', 'Ewallet', 522.83, 4.761904762, 26.1415, 9.1),\n",
       " ('373-73-7910', 'A', 'Yangon', 'Normal', 'Male', 'Sports and travel', 86.31, 7, 30.2085, 634.3785, '2019-02-08', '10:37:00', 'Ewallet', 604.17, 4.761904762, 30.2085, 5.3),\n",
       " ('699-14-3026', 'C', 'Naypyitaw', 'Normal', 'Male', 'Electronic accessories', 85.39, 7, 29.8865, 627.6165, '2019-03-25', '18:30:00', 'Ewallet', 597.73, 4.761904762, 29.8865, 4.1),\n",
       " ('355-53-5943', 'A', 'Yangon', 'Member', 'Female', 'Electronic accessories', 68.84, 6, 20.652, 433.692, '2019-02-25', '14:36:00', 'Ewallet', 413.04, 4.761904762, 20.652, 5.8),\n",
       " ('315-22-5665', 'C', 'Naypyitaw', 'Normal', 'Female', 'Home and lifestyle', 73.56, 10, 36.78, 772.38, '2019-02-24', '11:38:00', 'Ewallet', 735.6, 4.761904762, 36.78, 8.0)]"
      ]
     },
     "execution_count": 1,
     "metadata": {},
     "output_type": "execute_result"
    }
   ],
   "source": [
    "#Creating a copy of database file for backup\n",
    "import shutil\n",
    "shutil.copyfile('WalmartSalesData.db', 'WalmartSalesData_copy.db')\n",
    "\n",
    "#Load the SQL Extension\n",
    "%load_ext sql\n",
    "\n",
    "#Connecting to SQLite database (use sqlalchemy-1.4.49)\n",
    "%sql sqlite:///WalmartSalesData_copy.db\n",
    "\n",
    "%sql SELECT * FROM sales LIMIT 5;"
   ]
  },
  {
   "cell_type": "markdown",
   "id": "ec8f36aa-79a9-43d3-a781-c2206d914e6d",
   "metadata": {},
   "source": [
    "#### Checklist for data cleaning\n",
    "Data type, Data range, Null, Unique data, Regex, Cross-field validation, Accurate, Complete, Consistent"
   ]
  },
  {
   "cell_type": "markdown",
   "id": "ecd4808d-37f6-4255-93c5-ee0bef41ed07",
   "metadata": {},
   "source": [
    "#### Removing white spaces, deleting rows with NULL or empty strings"
   ]
  },
  {
   "cell_type": "code",
   "execution_count": 2,
   "id": "7f2c2113-2b3c-419f-8e66-e6c1c6d1be35",
   "metadata": {},
   "outputs": [
    {
     "name": "stdout",
     "output_type": "stream",
     "text": [
      " * sqlite:///WalmartSalesData_copy.db\n",
      "994 rows affected.\n",
      "7 rows affected.\n"
     ]
    },
    {
     "data": {
      "text/plain": [
       "[]"
      ]
     },
     "execution_count": 2,
     "metadata": {},
     "output_type": "execute_result"
    }
   ],
   "source": [
    "%%sql\n",
    "UPDATE sales\n",
    "SET\n",
    "    invoice_id       = TRIM(invoice_id),\n",
    "    branch           = TRIM(branch),\n",
    "    city             = TRIM(city),\n",
    "    customer_type    = TRIM(customer_type),\n",
    "    gender           = TRIM(gender),\n",
    "    product_line     = TRIM(product_line),\n",
    "    date             = TRIM(date),\n",
    "    time             = TRIM(time),\n",
    "    payment          = TRIM(payment)\n",
    "    ;\n",
    "\n",
    "DELETE FROM sales\n",
    "WHERE \n",
    "    invoice_id IS NULL OR invoice_id = ''\n",
    "OR  branch IS NULL OR branch = ''\n",
    "OR  city IS NULL OR city = ''\n",
    "OR  customer_type IS NULL OR customer_type = ''\n",
    "OR  gender IS NULL OR gender = ''\n",
    "OR  product_line IS NULL OR product_line = ''\n",
    "OR  date IS NULL OR date = ''\n",
    "OR  time IS NULL OR time = ''\n",
    "OR  payment IS NULL OR payment = ''\n",
    ";"
   ]
  },
  {
   "cell_type": "code",
   "execution_count": 3,
   "id": "277fa0fe-ee45-4718-ae11-763335563f0f",
   "metadata": {},
   "outputs": [
    {
     "name": "stdout",
     "output_type": "stream",
     "text": [
      " * sqlite:///WalmartSalesData_copy.db\n",
      "Done.\n"
     ]
    },
    {
     "data": {
      "text/html": [
       "<table>\n",
       "    <thead>\n",
       "        <tr>\n",
       "            <th>invoice_id</th>\n",
       "            <th>branch</th>\n",
       "            <th>city</th>\n",
       "            <th>customer_type</th>\n",
       "            <th>product_line</th>\n",
       "            <th>date</th>\n",
       "            <th>time</th>\n",
       "            <th>payment</th>\n",
       "        </tr>\n",
       "    </thead>\n",
       "    <tbody>\n",
       "        <tr>\n",
       "            <td>373-73-7910</td>\n",
       "            <td>A</td>\n",
       "            <td>Yangon</td>\n",
       "            <td>Normal</td>\n",
       "            <td>Sports and travel</td>\n",
       "            <td>2019-02-08</td>\n",
       "            <td>10:37:00</td>\n",
       "            <td>Ewallet</td>\n",
       "        </tr>\n",
       "        <tr>\n",
       "            <td>699-14-3026</td>\n",
       "            <td>C</td>\n",
       "            <td>Naypyitaw</td>\n",
       "            <td>Normal</td>\n",
       "            <td>Electronic accessories</td>\n",
       "            <td>2019-03-25</td>\n",
       "            <td>18:30:00</td>\n",
       "            <td>Ewallet</td>\n",
       "        </tr>\n",
       "        <tr>\n",
       "            <td>355-53-5943</td>\n",
       "            <td>A</td>\n",
       "            <td>Yangon</td>\n",
       "            <td>Member</td>\n",
       "            <td>Electronic accessories</td>\n",
       "            <td>2019-02-25</td>\n",
       "            <td>14:36:00</td>\n",
       "            <td>Ewallet</td>\n",
       "        </tr>\n",
       "        <tr>\n",
       "            <td>315-22-5665</td>\n",
       "            <td>C</td>\n",
       "            <td>Naypyitaw</td>\n",
       "            <td>Normal</td>\n",
       "            <td>Home and lifestyle</td>\n",
       "            <td>2019-02-24</td>\n",
       "            <td>11:38:00</td>\n",
       "            <td>Ewallet</td>\n",
       "        </tr>\n",
       "        <tr>\n",
       "            <td>665-32-9167</td>\n",
       "            <td>A</td>\n",
       "            <td>Yangon</td>\n",
       "            <td>Member</td>\n",
       "            <td>Health and beauty</td>\n",
       "            <td>2019-01-10</td>\n",
       "            <td>17:15:00</td>\n",
       "            <td>Credit card</td>\n",
       "        </tr>\n",
       "    </tbody>\n",
       "</table>"
      ],
      "text/plain": [
       "[('373-73-7910', 'A', 'Yangon', 'Normal', 'Sports and travel', '2019-02-08', '10:37:00', 'Ewallet'),\n",
       " ('699-14-3026', 'C', 'Naypyitaw', 'Normal', 'Electronic accessories', '2019-03-25', '18:30:00', 'Ewallet'),\n",
       " ('355-53-5943', 'A', 'Yangon', 'Member', 'Electronic accessories', '2019-02-25', '14:36:00', 'Ewallet'),\n",
       " ('315-22-5665', 'C', 'Naypyitaw', 'Normal', 'Home and lifestyle', '2019-02-24', '11:38:00', 'Ewallet'),\n",
       " ('665-32-9167', 'A', 'Yangon', 'Member', 'Health and beauty', '2019-01-10', '17:15:00', 'Credit card')]"
      ]
     },
     "execution_count": 3,
     "metadata": {},
     "output_type": "execute_result"
    }
   ],
   "source": [
    "%%sql \n",
    "SELECT invoice_id, branch, city, customer_type, product_line, date, time, payment\n",
    "FROM sales \n",
    "LIMIT 5;"
   ]
  },
  {
   "cell_type": "code",
   "execution_count": null,
   "id": "51d171a4-697b-4756-9831-1acfd2bd6785",
   "metadata": {},
   "outputs": [],
   "source": []
  },
  {
   "cell_type": "code",
   "execution_count": 4,
   "id": "46572fe8-27af-4a52-93da-2d7dd06703a3",
   "metadata": {},
   "outputs": [
    {
     "name": "stdout",
     "output_type": "stream",
     "text": [
      " * sqlite:///WalmartSalesData_copy.db\n",
      "Done.\n"
     ]
    },
    {
     "data": {
      "text/html": [
       "<table>\n",
       "    <thead>\n",
       "        <tr>\n",
       "            <th>invoice_id</th>\n",
       "        </tr>\n",
       "    </thead>\n",
       "    <tbody>\n",
       "    </tbody>\n",
       "</table>"
      ],
      "text/plain": [
       "[]"
      ]
     },
     "execution_count": 4,
     "metadata": {},
     "output_type": "execute_result"
    }
   ],
   "source": [
    "%%sql\n",
    "SELECT invoice_id\n",
    "FROM sales\n",
    "WHERE \n",
    "    strftime('%Y-%m-%d', date) != date\n",
    "OR  strftime('%H:%M:%S', time) != time;"
   ]
  },
  {
   "cell_type": "code",
   "execution_count": 5,
   "id": "5630d213-759b-4b44-b932-3b0902bd560b",
   "metadata": {},
   "outputs": [
    {
     "name": "stdout",
     "output_type": "stream",
     "text": [
      " * sqlite:///WalmartSalesData_copy.db\n",
      "Done.\n"
     ]
    },
    {
     "data": {
      "text/html": [
       "<table>\n",
       "    <thead>\n",
       "        <tr>\n",
       "            <th>branch</th>\n",
       "        </tr>\n",
       "    </thead>\n",
       "    <tbody>\n",
       "        <tr>\n",
       "            <td>A</td>\n",
       "        </tr>\n",
       "        <tr>\n",
       "            <td>C</td>\n",
       "        </tr>\n",
       "        <tr>\n",
       "            <td>B</td>\n",
       "        </tr>\n",
       "    </tbody>\n",
       "</table>"
      ],
      "text/plain": [
       "[('A',), ('C',), ('B',)]"
      ]
     },
     "execution_count": 5,
     "metadata": {},
     "output_type": "execute_result"
    }
   ],
   "source": [
    "%%sql\n",
    "SELECT \n",
    "    DISTINCT branch\n",
    "FROM sales;"
   ]
  },
  {
   "cell_type": "code",
   "execution_count": 6,
   "id": "8130a4a4-27df-4e31-87d2-1c91a3fdab49",
   "metadata": {},
   "outputs": [
    {
     "name": "stdout",
     "output_type": "stream",
     "text": [
      " * sqlite:///WalmartSalesData_copy.db\n",
      "Done.\n"
     ]
    },
    {
     "data": {
      "text/html": [
       "<table>\n",
       "    <thead>\n",
       "        <tr>\n",
       "            <th>city</th>\n",
       "        </tr>\n",
       "    </thead>\n",
       "    <tbody>\n",
       "        <tr>\n",
       "            <td>Yangon</td>\n",
       "        </tr>\n",
       "        <tr>\n",
       "            <td>Naypyitaw</td>\n",
       "        </tr>\n",
       "        <tr>\n",
       "            <td>Mandalay</td>\n",
       "        </tr>\n",
       "    </tbody>\n",
       "</table>"
      ],
      "text/plain": [
       "[('Yangon',), ('Naypyitaw',), ('Mandalay',)]"
      ]
     },
     "execution_count": 6,
     "metadata": {},
     "output_type": "execute_result"
    }
   ],
   "source": [
    "%%sql\n",
    "SELECT \n",
    "    DISTINCT city\n",
    "FROM sales"
   ]
  },
  {
   "cell_type": "code",
   "execution_count": 7,
   "id": "383f07d7-c22e-4a88-8fe2-226ebc151eec",
   "metadata": {},
   "outputs": [
    {
     "name": "stdout",
     "output_type": "stream",
     "text": [
      " * sqlite:///WalmartSalesData_copy.db\n",
      "Done.\n"
     ]
    },
    {
     "data": {
      "text/html": [
       "<table>\n",
       "    <thead>\n",
       "        <tr>\n",
       "            <th>customer_type</th>\n",
       "        </tr>\n",
       "    </thead>\n",
       "    <tbody>\n",
       "        <tr>\n",
       "            <td>Normal</td>\n",
       "        </tr>\n",
       "        <tr>\n",
       "            <td>Member</td>\n",
       "        </tr>\n",
       "    </tbody>\n",
       "</table>"
      ],
      "text/plain": [
       "[('Normal',), ('Member',)]"
      ]
     },
     "execution_count": 7,
     "metadata": {},
     "output_type": "execute_result"
    }
   ],
   "source": [
    "%%sql\n",
    "SELECT \n",
    "    DISTINCT customer_type\n",
    "FROM sales"
   ]
  },
  {
   "cell_type": "code",
   "execution_count": 8,
   "id": "cdb55c1e-7745-44d0-a244-88c6bab6d3e2",
   "metadata": {},
   "outputs": [
    {
     "name": "stdout",
     "output_type": "stream",
     "text": [
      " * sqlite:///WalmartSalesData_copy.db\n",
      "Done.\n"
     ]
    },
    {
     "data": {
      "text/html": [
       "<table>\n",
       "    <thead>\n",
       "        <tr>\n",
       "            <th>gender</th>\n",
       "        </tr>\n",
       "    </thead>\n",
       "    <tbody>\n",
       "        <tr>\n",
       "            <td>Male</td>\n",
       "        </tr>\n",
       "        <tr>\n",
       "            <td>Female</td>\n",
       "        </tr>\n",
       "    </tbody>\n",
       "</table>"
      ],
      "text/plain": [
       "[('Male',), ('Female',)]"
      ]
     },
     "execution_count": 8,
     "metadata": {},
     "output_type": "execute_result"
    }
   ],
   "source": [
    "%%sql\n",
    "SELECT \n",
    "    DISTINCT gender\n",
    "FROM sales"
   ]
  },
  {
   "cell_type": "code",
   "execution_count": 9,
   "id": "07ab0f35-212d-4211-8658-a6a81a04604e",
   "metadata": {},
   "outputs": [
    {
     "name": "stdout",
     "output_type": "stream",
     "text": [
      " * sqlite:///WalmartSalesData_copy.db\n",
      "Done.\n"
     ]
    },
    {
     "data": {
      "text/html": [
       "<table>\n",
       "    <thead>\n",
       "        <tr>\n",
       "            <th>product_line</th>\n",
       "        </tr>\n",
       "    </thead>\n",
       "    <tbody>\n",
       "        <tr>\n",
       "            <td>Sports and travel</td>\n",
       "        </tr>\n",
       "        <tr>\n",
       "            <td>Electronic accessories</td>\n",
       "        </tr>\n",
       "        <tr>\n",
       "            <td>Home and lifestyle</td>\n",
       "        </tr>\n",
       "        <tr>\n",
       "            <td>Health and beauty</td>\n",
       "        </tr>\n",
       "        <tr>\n",
       "            <td>Food and beverages</td>\n",
       "        </tr>\n",
       "        <tr>\n",
       "            <td>Fashion accessories</td>\n",
       "        </tr>\n",
       "    </tbody>\n",
       "</table>"
      ],
      "text/plain": [
       "[('Sports and travel',),\n",
       " ('Electronic accessories',),\n",
       " ('Home and lifestyle',),\n",
       " ('Health and beauty',),\n",
       " ('Food and beverages',),\n",
       " ('Fashion accessories',)]"
      ]
     },
     "execution_count": 9,
     "metadata": {},
     "output_type": "execute_result"
    }
   ],
   "source": []
  },
  {
   "cell_type": "code",
   "execution_count": 10,
   "id": "73b836a2-5453-47cf-9a6e-67594c86e214",
   "metadata": {},
   "outputs": [
    {
     "name": "stdout",
     "output_type": "stream",
     "text": [
      " * sqlite:///WalmartSalesData_copy.db\n",
      "Done.\n"
     ]
    },
    {
     "data": {
      "text/html": [
       "<table>\n",
       "    <thead>\n",
       "        <tr>\n",
       "            <th>payment</th>\n",
       "        </tr>\n",
       "    </thead>\n",
       "    <tbody>\n",
       "        <tr>\n",
       "            <td>Ewallet</td>\n",
       "        </tr>\n",
       "        <tr>\n",
       "            <td>Credit card</td>\n",
       "        </tr>\n",
       "        <tr>\n",
       "            <td>Cash</td>\n",
       "        </tr>\n",
       "    </tbody>\n",
       "</table>"
      ],
      "text/plain": [
       "[('Ewallet',), ('Credit card',), ('Cash',)]"
      ]
     },
     "execution_count": 10,
     "metadata": {},
     "output_type": "execute_result"
    }
   ],
   "source": [
    "%%sql\n",
    "SELECT \n",
    "    DISTINCT payment\n",
    "FROM sales"
   ]
  },
  {
   "cell_type": "markdown",
   "id": "adb90239-587f-4fb6-8d48-a1e75f04354f",
   "metadata": {},
   "source": [
    "#### Feature Engineering"
   ]
  },
  {
   "cell_type": "code",
   "execution_count": 11,
   "id": "91d13261-e83e-44e5-a366-8b99b618117b",
   "metadata": {},
   "outputs": [
    {
     "name": "stdout",
     "output_type": "stream",
     "text": [
      " * sqlite:///WalmartSalesData_copy.db\n",
      "Done.\n",
      "Done.\n",
      "Done.\n",
      "Done.\n",
      "987 rows affected.\n",
      "987 rows affected.\n",
      "987 rows affected.\n",
      "987 rows affected.\n"
     ]
    },
    {
     "data": {
      "text/plain": [
       "[]"
      ]
     },
     "execution_count": 11,
     "metadata": {},
     "output_type": "execute_result"
    }
   ],
   "source": [
    "%%sql\n",
    "ALTER TABLE sales ADD COLUMN time_period TEXT;\n",
    "ALTER TABLE sales ADD COLUMN day TEXT;\n",
    "ALTER TABLE sales ADD COLUMN month TEXT;\n",
    "ALTER TABLE sales ADD COLUMN weekday TEXT;\n",
    "\n",
    "UPDATE sales\n",
    "SET time_period =  \n",
    "    CASE\n",
    "        WHEN strftime('%H', time) BETWEEN '05' AND '08' THEN 'Early Morning'\n",
    "        WHEN strftime('%H', time) BETWEEN '09' AND '11' THEN 'Morning'\n",
    "        WHEN strftime('%H', time) BETWEEN '12' AND '16' THEN 'Afternoon'\n",
    "        WHEN strftime('%H', time) BETWEEN '17' AND '20' THEN 'Evening'\n",
    "        WHEN strftime('%H', time) BETWEEN '21' AND '23' THEN 'Night'\n",
    "        WHEN strftime('%H', time) BETWEEN '00' AND '04' THEN 'Late Night'\n",
    "    END;\n",
    "\n",
    "UPDATE sales\n",
    "SET day = strftime('%d', date);\n",
    "\n",
    "UPDATE sales\n",
    "SET month = strftime('%m', date);\n",
    "\n",
    "UPDATE sales \n",
    "SET weekday = CASE strftime('%w', date)\n",
    "                  WHEN '0' THEN 'Sunday'\n",
    "                  WHEN '1' THEN 'Monday'\n",
    "                  WHEN '2' THEN 'Tuesday'\n",
    "                  WHEN '3' THEN 'Wednesday'\n",
    "                  WHEN '4' THEN 'Thursday'\n",
    "                  WHEN '5' THEN 'Friday'\n",
    "                  WHEN '6' THEN 'Saturday'\n",
    "              END;"
   ]
  },
  {
   "cell_type": "code",
   "execution_count": 12,
   "id": "a674cf4b-e169-4b91-bed8-e9d68b570ede",
   "metadata": {},
   "outputs": [
    {
     "name": "stdout",
     "output_type": "stream",
     "text": [
      " * sqlite:///WalmartSalesData_copy.db\n",
      "Done.\n"
     ]
    },
    {
     "data": {
      "text/html": [
       "<table>\n",
       "    <thead>\n",
       "        <tr>\n",
       "            <th>invoice_id</th>\n",
       "            <th>date</th>\n",
       "            <th>time</th>\n",
       "            <th>time_period</th>\n",
       "            <th>day</th>\n",
       "            <th>month</th>\n",
       "            <th>weekday</th>\n",
       "        </tr>\n",
       "    </thead>\n",
       "    <tbody>\n",
       "        <tr>\n",
       "            <td>373-73-7910</td>\n",
       "            <td>2019-02-08</td>\n",
       "            <td>10:37:00</td>\n",
       "            <td>Morning</td>\n",
       "            <td>08</td>\n",
       "            <td>02</td>\n",
       "            <td>Friday</td>\n",
       "        </tr>\n",
       "        <tr>\n",
       "            <td>699-14-3026</td>\n",
       "            <td>2019-03-25</td>\n",
       "            <td>18:30:00</td>\n",
       "            <td>Evening</td>\n",
       "            <td>25</td>\n",
       "            <td>03</td>\n",
       "            <td>Monday</td>\n",
       "        </tr>\n",
       "        <tr>\n",
       "            <td>355-53-5943</td>\n",
       "            <td>2019-02-25</td>\n",
       "            <td>14:36:00</td>\n",
       "            <td>Afternoon</td>\n",
       "            <td>25</td>\n",
       "            <td>02</td>\n",
       "            <td>Monday</td>\n",
       "        </tr>\n",
       "        <tr>\n",
       "            <td>315-22-5665</td>\n",
       "            <td>2019-02-24</td>\n",
       "            <td>11:38:00</td>\n",
       "            <td>Morning</td>\n",
       "            <td>24</td>\n",
       "            <td>02</td>\n",
       "            <td>Sunday</td>\n",
       "        </tr>\n",
       "        <tr>\n",
       "            <td>665-32-9167</td>\n",
       "            <td>2019-01-10</td>\n",
       "            <td>17:15:00</td>\n",
       "            <td>Evening</td>\n",
       "            <td>10</td>\n",
       "            <td>01</td>\n",
       "            <td>Thursday</td>\n",
       "        </tr>\n",
       "    </tbody>\n",
       "</table>"
      ],
      "text/plain": [
       "[('373-73-7910', '2019-02-08', '10:37:00', 'Morning', '08', '02', 'Friday'),\n",
       " ('699-14-3026', '2019-03-25', '18:30:00', 'Evening', '25', '03', 'Monday'),\n",
       " ('355-53-5943', '2019-02-25', '14:36:00', 'Afternoon', '25', '02', 'Monday'),\n",
       " ('315-22-5665', '2019-02-24', '11:38:00', 'Morning', '24', '02', 'Sunday'),\n",
       " ('665-32-9167', '2019-01-10', '17:15:00', 'Evening', '10', '01', 'Thursday')]"
      ]
     },
     "execution_count": 12,
     "metadata": {},
     "output_type": "execute_result"
    }
   ],
   "source": [
    "%%sql \n",
    "SELECT invoice_id, date, time, time_period, day, month, weekday \n",
    "FROM sales \n",
    "LIMIT 5;"
   ]
  },
  {
   "cell_type": "markdown",
   "id": "7f6ac0c0-ce94-48d8-ae3e-abf57b8dae1f",
   "metadata": {},
   "source": [
    "#### Product Analysis"
   ]
  },
  {
   "cell_type": "markdown",
   "id": "7ac080d3-d151-43f3-bb59-24165a6146ac",
   "metadata": {},
   "source": [
    "- How many unique product lines does the data have?"
   ]
  },
  {
   "cell_type": "code",
   "execution_count": 13,
   "id": "4104105d-f604-4f5e-8731-fdf7c55269f8",
   "metadata": {},
   "outputs": [
    {
     "name": "stdout",
     "output_type": "stream",
     "text": [
      " * sqlite:///WalmartSalesData_copy.db\n",
      "Done.\n"
     ]
    },
    {
     "data": {
      "text/html": [
       "<table>\n",
       "    <thead>\n",
       "        <tr>\n",
       "            <th>product_line</th>\n",
       "        </tr>\n",
       "    </thead>\n",
       "    <tbody>\n",
       "        <tr>\n",
       "            <td>Sports and travel</td>\n",
       "        </tr>\n",
       "        <tr>\n",
       "            <td>Electronic accessories</td>\n",
       "        </tr>\n",
       "        <tr>\n",
       "            <td>Home and lifestyle</td>\n",
       "        </tr>\n",
       "        <tr>\n",
       "            <td>Health and beauty</td>\n",
       "        </tr>\n",
       "        <tr>\n",
       "            <td>Food and beverages</td>\n",
       "        </tr>\n",
       "        <tr>\n",
       "            <td>Fashion accessories</td>\n",
       "        </tr>\n",
       "    </tbody>\n",
       "</table>"
      ],
      "text/plain": [
       "[('Sports and travel',),\n",
       " ('Electronic accessories',),\n",
       " ('Home and lifestyle',),\n",
       " ('Health and beauty',),\n",
       " ('Food and beverages',),\n",
       " ('Fashion accessories',)]"
      ]
     },
     "execution_count": 13,
     "metadata": {},
     "output_type": "execute_result"
    }
   ],
   "source": [
    "%%sql\n",
    "SELECT \n",
    "    DISTINCT product_line\n",
    "FROM sales"
   ]
  },
  {
   "cell_type": "markdown",
   "id": "4d35490c-0ad2-4e7e-8d2e-f3da6ee499bc",
   "metadata": {},
   "source": [
    "- What is the most selling product line?"
   ]
  },
  {
   "cell_type": "code",
   "execution_count": 19,
   "id": "084aca3a-8b90-4a6b-9aa3-8e6911821fcf",
   "metadata": {},
   "outputs": [
    {
     "name": "stdout",
     "output_type": "stream",
     "text": [
      " * sqlite:///WalmartSalesData_copy.db\n",
      "Done.\n"
     ]
    },
    {
     "data": {
      "text/html": [
       "<table>\n",
       "    <thead>\n",
       "        <tr>\n",
       "            <th>product_line</th>\n",
       "            <th>qty</th>\n",
       "        </tr>\n",
       "    </thead>\n",
       "    <tbody>\n",
       "        <tr>\n",
       "            <td>Electronic accessories</td>\n",
       "            <td>963</td>\n",
       "        </tr>\n",
       "        <tr>\n",
       "            <td>Food and beverages</td>\n",
       "            <td>942</td>\n",
       "        </tr>\n",
       "        <tr>\n",
       "            <td>Sports and travel</td>\n",
       "            <td>903</td>\n",
       "        </tr>\n",
       "        <tr>\n",
       "            <td>Fashion accessories</td>\n",
       "            <td>902</td>\n",
       "        </tr>\n",
       "        <tr>\n",
       "            <td>Home and lifestyle</td>\n",
       "            <td>885</td>\n",
       "        </tr>\n",
       "        <tr>\n",
       "            <td>Health and beauty</td>\n",
       "            <td>835</td>\n",
       "        </tr>\n",
       "    </tbody>\n",
       "</table>"
      ],
      "text/plain": [
       "[('Electronic accessories', 963),\n",
       " ('Food and beverages', 942),\n",
       " ('Sports and travel', 903),\n",
       " ('Fashion accessories', 902),\n",
       " ('Home and lifestyle', 885),\n",
       " ('Health and beauty', 835)]"
      ]
     },
     "execution_count": 19,
     "metadata": {},
     "output_type": "execute_result"
    }
   ],
   "source": [
    "%%sql\n",
    "SELECT \n",
    "    product_line, \n",
    "    SUM(quantity) AS qty\n",
    "FROM sales\n",
    "GROUP BY product_line\n",
    "ORDER BY qty DESC"
   ]
  },
  {
   "cell_type": "markdown",
   "id": "343e24d1-6694-4403-b9d5-501207cc2872",
   "metadata": {},
   "source": [
    "- What is the total revenue by month?"
   ]
  },
  {
   "cell_type": "code",
   "execution_count": 26,
   "id": "eeed798c-9852-4f40-90ef-061b96db20d8",
   "metadata": {},
   "outputs": [
    {
     "name": "stdout",
     "output_type": "stream",
     "text": [
      " * sqlite:///WalmartSalesData_copy.db\n",
      "Done.\n"
     ]
    },
    {
     "data": {
      "text/html": [
       "<table>\n",
       "    <thead>\n",
       "        <tr>\n",
       "            <th>start_date</th>\n",
       "            <th>end_date</th>\n",
       "        </tr>\n",
       "    </thead>\n",
       "    <tbody>\n",
       "        <tr>\n",
       "            <td>2019-01-01</td>\n",
       "            <td>2019-03-30</td>\n",
       "        </tr>\n",
       "    </tbody>\n",
       "</table>"
      ],
      "text/plain": [
       "[('2019-01-01', '2019-03-30')]"
      ]
     },
     "execution_count": 26,
     "metadata": {},
     "output_type": "execute_result"
    }
   ],
   "source": [
    "%%sql\n",
    "SELECT \n",
    "    MIN(strftime('%Y-%m-%d', date)) as start_date,\n",
    "    MAX(strftime('%Y-%m-%d', date)) as end_date\n",
    "FROM sales"
   ]
  },
  {
   "cell_type": "code",
   "execution_count": null,
   "id": "3c437ea2-02b3-4a05-9889-45218f46a6e0",
   "metadata": {},
   "outputs": [],
   "source": []
  }
 ],
 "metadata": {
  "kernelspec": {
   "display_name": "Python 3 (ipykernel)",
   "language": "python",
   "name": "python3"
  },
  "language_info": {
   "codemirror_mode": {
    "name": "ipython",
    "version": 3
   },
   "file_extension": ".py",
   "mimetype": "text/x-python",
   "name": "python",
   "nbconvert_exporter": "python",
   "pygments_lexer": "ipython3",
   "version": "3.11.7"
  }
 },
 "nbformat": 4,
 "nbformat_minor": 5
}
