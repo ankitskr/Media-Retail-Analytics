{
 "cells": [
  {
   "cell_type": "code",
   "execution_count": 1,
   "id": "4f9e3d22-67b3-4a2e-a9e8-422232e7f5e5",
   "metadata": {},
   "outputs": [],
   "source": [
    "import sqlite3\n",
    "import pandas as pd"
   ]
  },
  {
   "cell_type": "code",
   "execution_count": 2,
   "id": "ce39c376-7738-4485-9179-1401fbaec57f",
   "metadata": {},
   "outputs": [],
   "source": [
    "# define connection and cursor\n",
    "conn = sqlite3.connect('store_transactions.db')\n",
    "c = conn.cursor()"
   ]
  },
  {
   "cell_type": "code",
   "execution_count": 3,
   "id": "0333743a-5d90-4455-af82-64ce7ff3c00e",
   "metadata": {},
   "outputs": [
    {
     "data": {
      "text/plain": [
       "<sqlite3.Cursor at 0x1e01918a140>"
      ]
     },
     "execution_count": 3,
     "metadata": {},
     "output_type": "execute_result"
    }
   ],
   "source": [
    "#create table stores\n",
    "create_table_1 = \"\"\"\n",
    "CREATE TABLE IF NOT EXISTS stores\n",
    "(\n",
    "    store_id    INTEGER   PRIMARY KEY, \n",
    "    location    TEXT      NOT NULL, -- variable length: string (slow), Also VARCHAR\n",
    "    brand       CHAR(6)   NOT NULL -- fixed length: string\n",
    ");\n",
    "\"\"\"\n",
    "\n",
    "create_table_2 = \"\"\"\n",
    "CREATE TABLE IF NOT EXISTS purchases\n",
    "(\n",
    "    purchase_id     INTEGER         PRIMARY KEY, \n",
    "    store_id        INTEGER         NOT NULL, \n",
    "    units_ordered   INTEGER         NOT NULL,\n",
    "    unit_price      DECIMAL(6,2)    NOT NULL,\n",
    "    FOREIGN KEY(store_id) REFERENCES stores(store_id)\n",
    ");\n",
    "\"\"\"\n",
    "c.execute(create_table_1)\n",
    "c.execute(create_table_2)\n"
   ]
  },
  {
   "cell_type": "code",
   "execution_count": 4,
   "id": "c04e49db-c634-49f9-be29-04d2ff4d77c7",
   "metadata": {},
   "outputs": [
    {
     "data": {
      "text/plain": [
       "<sqlite3.Cursor at 0x1e01918a140>"
      ]
     },
     "execution_count": 4,
     "metadata": {},
     "output_type": "execute_result"
    }
   ],
   "source": [
    "#add to stores\n",
    "insertrows_stores = \"\"\"\n",
    "INSERT INTO stores\n",
    "    (store_id, location, brand)\n",
    "VALUES \n",
    "    (21, 'Minneapolis, MN', 'brand1'),\n",
    "    (95, 'Chicago, IL', 'brand2'),\n",
    "    (64, 'Iowa City, IA', 'brand33');\n",
    "\"\"\"\n",
    "\n",
    "insertrows_purchases = \"\"\"\n",
    "INSERT INTO purchases\n",
    "    (purchase_id, store_id, units_ordered, unit_price)\n",
    "VALUES \n",
    "    (54, 21,  6, 15.4),\n",
    "    (23, 64,  2, 21.2),\n",
    "    (4,  21, 55, 16.4),\n",
    "    (5,  21, 63, 14.7),\n",
    "    (47, 95, 10, 11.5),\n",
    "    (65, 95, 16, 19.3);\n",
    "\"\"\"\n",
    "\n",
    "c.execute(insertrows_stores)\n",
    "c.execute(insertrows_purchases)"
   ]
  },
  {
   "cell_type": "code",
   "execution_count": 5,
   "id": "1696293a-40b1-442d-b883-2b7ed7dc3f8f",
   "metadata": {},
   "outputs": [
    {
     "data": {
      "text/html": [
       "<div>\n",
       "<style scoped>\n",
       "    .dataframe tbody tr th:only-of-type {\n",
       "        vertical-align: middle;\n",
       "    }\n",
       "\n",
       "    .dataframe tbody tr th {\n",
       "        vertical-align: top;\n",
       "    }\n",
       "\n",
       "    .dataframe thead th {\n",
       "        text-align: right;\n",
       "    }\n",
       "</style>\n",
       "<table border=\"1\" class=\"dataframe\">\n",
       "  <thead>\n",
       "    <tr style=\"text-align: right;\">\n",
       "      <th></th>\n",
       "      <th>store_id</th>\n",
       "      <th>location</th>\n",
       "      <th>brand</th>\n",
       "    </tr>\n",
       "  </thead>\n",
       "  <tbody>\n",
       "    <tr>\n",
       "      <th>0</th>\n",
       "      <td>21</td>\n",
       "      <td>Minneapolis, MN</td>\n",
       "      <td>brand1</td>\n",
       "    </tr>\n",
       "    <tr>\n",
       "      <th>1</th>\n",
       "      <td>64</td>\n",
       "      <td>Iowa City, IA</td>\n",
       "      <td>brand33</td>\n",
       "    </tr>\n",
       "    <tr>\n",
       "      <th>2</th>\n",
       "      <td>95</td>\n",
       "      <td>Chicago, IL</td>\n",
       "      <td>brand2</td>\n",
       "    </tr>\n",
       "  </tbody>\n",
       "</table>\n",
       "</div>"
      ],
      "text/plain": [
       "   store_id         location    brand\n",
       "0        21  Minneapolis, MN   brand1\n",
       "1        64    Iowa City, IA  brand33\n",
       "2        95      Chicago, IL   brand2"
      ]
     },
     "execution_count": 5,
     "metadata": {},
     "output_type": "execute_result"
    }
   ],
   "source": [
    "#get results\n",
    "pd.read_sql_query(\"SELECT * FROM stores\", conn)"
   ]
  },
  {
   "cell_type": "code",
   "execution_count": 6,
   "id": "be596ff0-01bd-46b7-bfa9-8b600e4bf89e",
   "metadata": {},
   "outputs": [
    {
     "data": {
      "text/html": [
       "<div>\n",
       "<style scoped>\n",
       "    .dataframe tbody tr th:only-of-type {\n",
       "        vertical-align: middle;\n",
       "    }\n",
       "\n",
       "    .dataframe tbody tr th {\n",
       "        vertical-align: top;\n",
       "    }\n",
       "\n",
       "    .dataframe thead th {\n",
       "        text-align: right;\n",
       "    }\n",
       "</style>\n",
       "<table border=\"1\" class=\"dataframe\">\n",
       "  <thead>\n",
       "    <tr style=\"text-align: right;\">\n",
       "      <th></th>\n",
       "      <th>purchase_id</th>\n",
       "      <th>store_id</th>\n",
       "      <th>units_ordered</th>\n",
       "      <th>unit_price</th>\n",
       "    </tr>\n",
       "  </thead>\n",
       "  <tbody>\n",
       "    <tr>\n",
       "      <th>0</th>\n",
       "      <td>4</td>\n",
       "      <td>21</td>\n",
       "      <td>55</td>\n",
       "      <td>16.40</td>\n",
       "    </tr>\n",
       "    <tr>\n",
       "      <th>1</th>\n",
       "      <td>5</td>\n",
       "      <td>21</td>\n",
       "      <td>63</td>\n",
       "      <td>14.70</td>\n",
       "    </tr>\n",
       "    <tr>\n",
       "      <th>2</th>\n",
       "      <td>23</td>\n",
       "      <td>64</td>\n",
       "      <td>2</td>\n",
       "      <td>21.20</td>\n",
       "    </tr>\n",
       "    <tr>\n",
       "      <th>3</th>\n",
       "      <td>47</td>\n",
       "      <td>95</td>\n",
       "      <td>10</td>\n",
       "      <td>11.50</td>\n",
       "    </tr>\n",
       "    <tr>\n",
       "      <th>4</th>\n",
       "      <td>54</td>\n",
       "      <td>21</td>\n",
       "      <td>6</td>\n",
       "      <td>3.67</td>\n",
       "    </tr>\n",
       "  </tbody>\n",
       "</table>\n",
       "</div>"
      ],
      "text/plain": [
       "   purchase_id  store_id  units_ordered  unit_price\n",
       "0            4        21             55       16.40\n",
       "1            5        21             63       14.70\n",
       "2           23        64              2       21.20\n",
       "3           47        95             10       11.50\n",
       "4           54        21              6        3.67"
      ]
     },
     "execution_count": 6,
     "metadata": {},
     "output_type": "execute_result"
    }
   ],
   "source": [
    "#update\n",
    "update_cell = \"\"\"\n",
    "UPDATE purchases\n",
    "SET unit_price = 3.67 \n",
    "WHERE purchase_id = 54\n",
    "\"\"\"\n",
    "retrieve = \"\"\"\n",
    "SELECT * FROM purchases\n",
    "LIMIT 5;\n",
    "\"\"\"\n",
    "\n",
    "c.execute(update_cell)\n",
    "pd.read_sql_query(retrieve, conn)"
   ]
  },
  {
   "cell_type": "code",
   "execution_count": null,
   "id": "aad5543a-07ad-4f36-98d4-77fae2bd9d4e",
   "metadata": {},
   "outputs": [],
   "source": []
  },
  {
   "cell_type": "code",
   "execution_count": 7,
   "id": "1c99bea6-82b2-4dc6-ac0e-d4ddd7349844",
   "metadata": {},
   "outputs": [],
   "source": [
    "conn.commit()\n",
    "conn.close()"
   ]
  },
  {
   "cell_type": "code",
   "execution_count": null,
   "id": "da763dc2-3f23-40dc-a06a-bd01d6d2171b",
   "metadata": {},
   "outputs": [],
   "source": []
  }
 ],
 "metadata": {
  "kernelspec": {
   "display_name": "Python 3 (ipykernel)",
   "language": "python",
   "name": "python3"
  },
  "language_info": {
   "codemirror_mode": {
    "name": "ipython",
    "version": 3
   },
   "file_extension": ".py",
   "mimetype": "text/x-python",
   "name": "python",
   "nbconvert_exporter": "python",
   "pygments_lexer": "ipython3",
   "version": "3.11.7"
  }
 },
 "nbformat": 4,
 "nbformat_minor": 5
}
