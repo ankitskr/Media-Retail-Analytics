{
 "cells": [
  {
   "cell_type": "code",
   "execution_count": 1,
   "id": "512ee5a3-6b51-4cc9-810c-31e5868e34cd",
   "metadata": {},
   "outputs": [
    {
     "data": {
      "text/plain": [
       "'Connected: @store_transactions.db'"
      ]
     },
     "execution_count": 1,
     "metadata": {},
     "output_type": "execute_result"
    }
   ],
   "source": [
    "%load_ext sql\n",
    "\n",
    "# worked with sqlalchemy-1.4.49\n",
    "%sql sqlite:///store_transactions.db"
   ]
  },
  {
   "cell_type": "code",
   "execution_count": 2,
   "id": "2aae6ab5-2222-4c03-8aba-e9a90a801ecd",
   "metadata": {},
   "outputs": [
    {
     "name": "stdout",
     "output_type": "stream",
     "text": [
      " * sqlite:///store_transactions.db\n",
      "Done.\n",
      "Done.\n",
      "4 rows affected.\n",
      "6 rows affected.\n"
     ]
    },
    {
     "data": {
      "text/plain": [
       "[]"
      ]
     },
     "execution_count": 2,
     "metadata": {},
     "output_type": "execute_result"
    }
   ],
   "source": [
    "%%sql\n",
    "CREATE TABLE IF NOT EXISTS stores\n",
    "(\n",
    "    store_id    INTEGER   PRIMARY KEY, \n",
    "    location    TEXT      NOT NULL, -- variable length: string (slow), Also VARCHAR\n",
    "    manager     CHAR(12)   NOT NULL -- fixed length: string\n",
    ");\n",
    "\n",
    "CREATE TABLE IF NOT EXISTS purchases\n",
    "(\n",
    "    purchase_id     INTEGER         PRIMARY KEY, \n",
    "    store_id        INTEGER         NOT NULL, \n",
    "    units_ordered   INTEGER         NOT NULL,\n",
    "    unit_price      DECIMAL(6,2)    NOT NULL,\n",
    "    FOREIGN KEY(store_id) REFERENCES stores(store_id)\n",
    ");\n",
    "\n",
    "INSERT INTO stores\n",
    "    (store_id, location, manager)\n",
    "VALUES \n",
    "    (21, 'Sydney, NSW', 'Charles'),\n",
    "    (95, 'Melbourne, VIC', 'Steve'),\n",
    "    (64, 'Hobbart, TAS', 'David'),\n",
    "    (79, 'Perth, WA', 'Ellie');\n",
    "\n",
    "INSERT INTO purchases\n",
    "    (purchase_id, store_id, units_ordered, unit_price)\n",
    "VALUES \n",
    "    (54, 21,  6, 15.4),\n",
    "    (23, 64,  2, 21.2),\n",
    "    (4,  21, 55, 16.4),\n",
    "    (5,  21, 63, 14.7),\n",
    "    (47, 95, 10, 11.5),\n",
    "    (65, 95, 16, 19.3);"
   ]
  },
  {
   "cell_type": "code",
   "execution_count": 3,
   "id": "c1d3b86a-c81f-42ad-9957-d29976e17537",
   "metadata": {},
   "outputs": [
    {
     "name": "stdout",
     "output_type": "stream",
     "text": [
      " * sqlite:///store_transactions.db\n",
      "Done.\n"
     ]
    },
    {
     "data": {
      "text/html": [
       "<table>\n",
       "    <thead>\n",
       "        <tr>\n",
       "            <th>store_id</th>\n",
       "            <th>location</th>\n",
       "            <th>manager</th>\n",
       "        </tr>\n",
       "    </thead>\n",
       "    <tbody>\n",
       "        <tr>\n",
       "            <td>21</td>\n",
       "            <td>Sydney, NSW</td>\n",
       "            <td>Charles</td>\n",
       "        </tr>\n",
       "        <tr>\n",
       "            <td>64</td>\n",
       "            <td>Hobbart, TAS</td>\n",
       "            <td>David</td>\n",
       "        </tr>\n",
       "        <tr>\n",
       "            <td>79</td>\n",
       "            <td>Perth, WA</td>\n",
       "            <td>Ellie</td>\n",
       "        </tr>\n",
       "        <tr>\n",
       "            <td>95</td>\n",
       "            <td>Melbourne, VIC</td>\n",
       "            <td>Steve</td>\n",
       "        </tr>\n",
       "    </tbody>\n",
       "</table>"
      ],
      "text/plain": [
       "[(21, 'Sydney, NSW', 'Charles'),\n",
       " (64, 'Hobbart, TAS', 'David'),\n",
       " (79, 'Perth, WA', 'Ellie'),\n",
       " (95, 'Melbourne, VIC', 'Steve')]"
      ]
     },
     "execution_count": 3,
     "metadata": {},
     "output_type": "execute_result"
    }
   ],
   "source": [
    "%%sql\n",
    "SELECT * FROM stores;"
   ]
  },
  {
   "cell_type": "code",
   "execution_count": 4,
   "id": "5954d919-3a73-4a7e-978f-30b6cff5480b",
   "metadata": {},
   "outputs": [
    {
     "name": "stdout",
     "output_type": "stream",
     "text": [
      " * sqlite:///store_transactions.db\n",
      "1 rows affected.\n"
     ]
    },
    {
     "data": {
      "text/plain": [
       "[]"
      ]
     },
     "execution_count": 4,
     "metadata": {},
     "output_type": "execute_result"
    }
   ],
   "source": [
    "%%sql\n",
    "UPDATE purchases\n",
    "SET unit_price = 3.67 \n",
    "WHERE purchase_id = 54;"
   ]
  },
  {
   "cell_type": "code",
   "execution_count": 5,
   "id": "305bdf2a-c86a-46eb-a1f4-536ca4f9a034",
   "metadata": {},
   "outputs": [
    {
     "name": "stdout",
     "output_type": "stream",
     "text": [
      " * sqlite:///store_transactions.db\n",
      "Done.\n"
     ]
    },
    {
     "data": {
      "text/html": [
       "<table>\n",
       "    <thead>\n",
       "        <tr>\n",
       "            <th>purchase_id</th>\n",
       "            <th>store_id</th>\n",
       "            <th>units_ordered</th>\n",
       "            <th>unit_price</th>\n",
       "        </tr>\n",
       "    </thead>\n",
       "    <tbody>\n",
       "        <tr>\n",
       "            <td>4</td>\n",
       "            <td>21</td>\n",
       "            <td>55</td>\n",
       "            <td>16.4</td>\n",
       "        </tr>\n",
       "        <tr>\n",
       "            <td>5</td>\n",
       "            <td>21</td>\n",
       "            <td>63</td>\n",
       "            <td>14.7</td>\n",
       "        </tr>\n",
       "        <tr>\n",
       "            <td>23</td>\n",
       "            <td>64</td>\n",
       "            <td>2</td>\n",
       "            <td>21.2</td>\n",
       "        </tr>\n",
       "        <tr>\n",
       "            <td>47</td>\n",
       "            <td>95</td>\n",
       "            <td>10</td>\n",
       "            <td>11.5</td>\n",
       "        </tr>\n",
       "        <tr>\n",
       "            <td>54</td>\n",
       "            <td>21</td>\n",
       "            <td>6</td>\n",
       "            <td>3.67</td>\n",
       "        </tr>\n",
       "    </tbody>\n",
       "</table>"
      ],
      "text/plain": [
       "[(4, 21, 55, 16.4),\n",
       " (5, 21, 63, 14.7),\n",
       " (23, 64, 2, 21.2),\n",
       " (47, 95, 10, 11.5),\n",
       " (54, 21, 6, 3.67)]"
      ]
     },
     "execution_count": 5,
     "metadata": {},
     "output_type": "execute_result"
    }
   ],
   "source": [
    "%%sql\n",
    "SELECT * FROM purchases\n",
    "LIMIT 5;"
   ]
  },
  {
   "cell_type": "code",
   "execution_count": 6,
   "id": "36187dda-9a30-4d2e-959c-8f8e412ac7e5",
   "metadata": {},
   "outputs": [
    {
     "data": {
      "image/png": "[encoded data removed]",
      "text/plain": [
       "<IPython.core.display.Image object>"
      ]
     },
     "execution_count": 6,
     "metadata": {},
     "output_type": "execute_result"
    }
   ],
   "source": [
    "from eralchemy2 import render_er\n",
    "from IPython.display import Image\n",
    "\n",
    "database_url = \"sqlite:///store_transactions.db\"\n",
    "output_file = \"store_er_diagram.png\"\n",
    "render_er(database_url, output_file)\n",
    "Image(filename=output_file)"
   ]
  },
  {
   "cell_type": "code",
   "execution_count": null,
   "id": "cc7f8518-e919-46a5-aa60-60d8ba9d5cf3",
   "metadata": {},
   "outputs": [],
   "source": []
  }
 ],
 "metadata": {
  "kernelspec": {
   "display_name": "Python 3 (ipykernel)",
   "language": "python",
   "name": "python3"
  },
  "language_info": {
   "codemirror_mode": {
    "name": "ipython",
    "version": 3
   },
   "file_extension": ".py",
   "mimetype": "text/x-python",
   "name": "python",
   "nbconvert_exporter": "python",
   "pygments_lexer": "ipython3",
   "version": "3.11.7"
  }
 },
 "nbformat": 4,
 "nbformat_minor": 5
}
