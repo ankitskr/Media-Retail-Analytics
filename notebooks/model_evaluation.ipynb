{
 "cells": [
  {
   "cell_type": "markdown",
   "id": "5296ebd1-a140-44ab-a071-5b03b98330c3",
   "metadata": {},
   "source": [
    "### 1. Project Objectives\n",
    "< >"
   ]
  },
  {
   "cell_type": "code",
   "execution_count": null,
   "id": "050eb052-8a95-473e-9a97-9892bcf411d4",
   "metadata": {},
   "outputs": [],
   "source": []
  }
 ],
 "metadata": {
  "kernelspec": {
   "display_name": "Python 3 (ipykernel)",
   "language": "python",
   "name": "python3"
  },
  "language_info": {
   "codemirror_mode": {
    "name": "ipython",
    "version": 3
   },
   "file_extension": ".py",
   "mimetype": "text/x-python",
   "name": "python",
   "nbconvert_exporter": "python",
   "pygments_lexer": "ipython3",
   "version": "3.11.7"
  }
 },
 "nbformat": 4,
 "nbformat_minor": 5
}
